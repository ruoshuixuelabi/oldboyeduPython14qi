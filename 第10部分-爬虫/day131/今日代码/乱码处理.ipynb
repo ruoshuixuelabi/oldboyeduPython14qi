{
 "cells": [
  {
   "cell_type": "code",
   "execution_count": 10,
   "metadata": {
    "collapsed": true
   },
   "outputs": [
    {
     "name": "stdout",
     "output_type": "stream",
     "text": [
      "ISO-8859-1\n",
      "/uploads/allimg/190106/212705-1546781225c107.jpg 江琴 长卷发 靓丽美女4k壁纸3840x2160\n",
      "/uploads/allimg/190106/211715-1546780635bfc5.jpg 克拉女神江琴 长卷发美女4k壁纸3840x2160\n",
      "/uploads/allimg/170705/232057-1499268057f947.jpg 刘奕宁Lynn 白色衣服 黑色短裙 长发清新美女4K壁纸\n",
      "/uploads/allimg/181218/210221-15451381413c4a.jpg 江琴 金枝玉叶4k美女壁纸\n",
      "/uploads/allimg/180718/135924-153189356407b7.jpg 克拉女神江琴 居家沙发养眼美腿美女4k壁纸\n",
      "/uploads/allimg/170719/125208-1500439928de21.jpg 制服美女 美腿 慕羽茜4K美女壁纸 3840x2160\n",
      "/uploads/allimg/180128/112234-1517109754fad1.jpg 糖果 美女模特4k壁纸\n",
      "/uploads/allimg/170903/003311-1504369991ece9.jpg 性感美女写真江琴3840x2160壁纸\n",
      "/uploads/allimg/180703/142018-15305988184e63.jpg 姜璐4k壁纸\n",
      "/uploads/allimg/181004/202029-1538655629824c.jpg 尤果网美女赵智妍4k壁纸\n",
      "/uploads/allimg/190106/212225-1546780945f045.jpg 靓丽美女江琴3440x1440壁纸\n",
      "/uploads/allimg/190106/211910-154678075011b8.jpg 江琴 长卷发养眼美女3440x1440壁纸\n",
      "/uploads/allimg/190102/162114-1546417274aa1c.jpg 白月光美女3440x1440壁纸\n",
      "/uploads/allimg/180128/113416-15171104568e22.jpg 糖果性感美女4k壁纸\n",
      "/uploads/allimg/180531/191206-152776512602f3.jpg 凌雪 性感空姐美女4k壁纸\n",
      "/uploads/allimg/180830/111450-15355988903078.jpg 比基尼性感美女于思琪4k壁纸\n",
      "/uploads/allimg/181203/193043-1543836643308c.jpg 克拉女神江琴 居家沙发写真4k壁纸\n",
      "/uploads/allimg/180714/211531-1531574131b2e6.jpg 江琴 居家养眼美女4k壁纸\n",
      "/uploads/allimg/181226/220432-15458330722e8e.jpg 克拉女神江琴 红色裙子高清美女4k壁纸\n",
      "/uploads/allimg/181226/215904-15458327445995.jpg 江琴 长头发 红色裙子美女4k壁纸\n",
      "/uploads/allimg/181226/215548-15458325485ee8.jpg 江琴 高清美女4k壁纸3840x2160\n"
     ]
    }
   ],
   "source": [
    "import requests\n",
    "from lxml import etree\n",
    "headers = {\n",
    "    'User-Agent':'Mozilla/5.0 (Windows NT 6.1; Win64; x64) AppleWebKit/537.36 (KHTML, like Gecko) Chrome/71.0.3578.98 Safari/537.36'\n",
    "}\n",
    "url = 'http://pic.netbian.com/4kmeinv/'\n",
    "response = requests.get(url=url,headers=headers)\n",
    "# response.encoding = 'utf-8'\n",
    "#检查请求到的源码数据的编码格式\n",
    "print(response.encoding)\n",
    "page_text = response.text\n",
    "\n",
    "tree = etree.HTML(page_text)\n",
    "li_list = tree.xpath('//div[@class=\"slist\"]/ul/li')\n",
    "for li in li_list:\n",
    "    img_src = li.xpath('./a/img/@src')[0]\n",
    "    img_name = li.xpath('./a/img/@alt')[0]\n",
    "#     img_name = img_name.encode('gbk').decode('utf-8')\n",
    "    img_name = img_name.encode('ISO-8859-1').decode('gbk')\n",
    "    print(img_src,img_name)"
   ]
  },
  {
   "cell_type": "code",
   "execution_count": null,
   "metadata": {},
   "outputs": [],
   "source": []
  }
 ],
 "metadata": {
  "kernelspec": {
   "display_name": "Python 3",
   "language": "python",
   "name": "python3"
  },
  "language_info": {
   "codemirror_mode": {
    "name": "ipython",
    "version": 3
   },
   "file_extension": ".py",
   "mimetype": "text/x-python",
   "name": "python",
   "nbconvert_exporter": "python",
   "pygments_lexer": "ipython3",
   "version": "3.7.0"
  }
 },
 "nbformat": 4,
 "nbformat_minor": 2
}
