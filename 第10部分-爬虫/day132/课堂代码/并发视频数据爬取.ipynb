{
 "cells": [
  {
   "cell_type": "code",
   "execution_count": 10,
   "metadata": {},
   "outputs": [],
   "source": [
    "import requests\n",
    "from lxml import etree\n",
    "import re\n",
    "import random"
   ]
  },
  {
   "cell_type": "code",
   "execution_count": 11,
   "metadata": {},
   "outputs": [],
   "source": [
    "from multiprocessing.dummy import Pool\n",
    "pool = Pool(5)"
   ]
  },
  {
   "cell_type": "code",
   "execution_count": 12,
   "metadata": {},
   "outputs": [],
   "source": [
    "def saveVideo(data):\n",
    "    name = str(random.randint(0,10000))+'.mp4'\n",
    "    with open(name,'wb') as fp:\n",
    "        fp.write(data)\n",
    "        print(name+'下载成功')"
   ]
  },
  {
   "cell_type": "code",
   "execution_count": 13,
   "metadata": {},
   "outputs": [
    {
     "name": "stdout",
     "output_type": "stream",
     "text": [
      "4286.mp4下载成功\n",
      "3471.mp4下载成功\n",
      "9055.mp4下载成功\n",
      "4420.mp4下载成功\n"
     ]
    }
   ],
   "source": [
    "headers = {\n",
    "    'User-Agent':'Mozilla/5.0 (Windows NT 6.1; Win64; x64) AppleWebKit/537.36 (KHTML, like Gecko) Chrome/71.0.3578.98 Safari/537.36'\n",
    "}\n",
    "url = 'https://www.pearvideo.com/category_8'\n",
    "page_text = requests.get(url=url,headers=headers).text\n",
    "\n",
    "tree = etree.HTML(page_text)\n",
    "li_list = tree.xpath('//div[@id=\"listvideoList\"]/ul/li')\n",
    "video_url_list = [] #存放的是视频对应的url\n",
    "for li in li_list:\n",
    "    detail_page_url = 'https://www.pearvideo.com/'+li.xpath('.//a/@href')[0]\n",
    "    detail_page_text = requests.get(url=detail_page_url,headers=headers).text\n",
    "    video_url = re.findall('srcUrl=\"(.*?)\",',detail_page_text,re.S)[0]\n",
    "    #耗时操作可以使用并发机制\n",
    "    video_url_list.append(video_url)\n",
    "    \n",
    "#并发下载视频\n",
    "downloadVideo = lambda link:requests.get(url=link,headers=headers).content\n",
    "#map返回的列表中存储的就是下载完毕的视频二进制的数据值\n",
    "video_data_list = pool.map(downloadVideo,video_url_list)\n",
    "\n",
    "pool.map(saveVideo,video_data_list)\n",
    "\n",
    "pool.close()\n",
    "pool.join()    "
   ]
  },
  {
   "cell_type": "code",
   "execution_count": null,
   "metadata": {},
   "outputs": [],
   "source": []
  }
 ],
 "metadata": {
  "kernelspec": {
   "display_name": "Python 3",
   "language": "python",
   "name": "python3"
  },
  "language_info": {
   "codemirror_mode": {
    "name": "ipython",
    "version": 3
   },
   "file_extension": ".py",
   "mimetype": "text/x-python",
   "name": "python",
   "nbconvert_exporter": "python",
   "pygments_lexer": "ipython3",
   "version": "3.7.0"
  }
 },
 "nbformat": 4,
 "nbformat_minor": 2
}
