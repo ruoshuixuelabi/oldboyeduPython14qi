{
 "cells": [
  {
   "cell_type": "markdown",
   "metadata": {},
   "source": [
    "需求:爬取简单网中的图片数据http://jandan.net/ooxx"
   ]
  },
  {
   "cell_type": "code",
   "execution_count": 13,
   "metadata": {},
   "outputs": [],
   "source": [
    "from urllib import request"
   ]
  },
  {
   "cell_type": "code",
   "execution_count": 21,
   "metadata": {
    "collapsed": true
   },
   "outputs": [
    {
     "name": "stdout",
     "output_type": "stream",
     "text": [
      "jiandan/006XNEY7gy1fyyxo1ttmuj30f00qo0v3.jpg下载完毕!!!\n",
      "jiandan/0076BSS5ly1fyyxd8y9foj30u018y7o1.jpg下载完毕!!!\n",
      "jiandan/0063I4Pugy1fyywb6j1qnj30u0190793.jpg下载完毕!!!\n",
      "jiandan/0076BSS5ly1fyywkzll2sj31900u0gze.jpg下载完毕!!!\n",
      "jiandan/006r8Ylqly1fyywhucvx6j30sc14eu0y.jpg下载完毕!!!\n",
      "jiandan/5950978dly1fyyw7mgba4j20cw0lmwfz.jpg下载完毕!!!\n",
      "jiandan/0076BSS5ly1fyyvtnc78bj30u01907e9.jpg下载完毕!!!\n",
      "jiandan/007i4MEmgy1fyyvojqvfxj30j50npqjl.jpg下载完毕!!!\n",
      "jiandan/0076BSS5ly1fyyv2oz5dxj30u018ywv9.jpg下载完毕!!!\n",
      "jiandan/005xV1Dkly1fyyu388m8tj30f00k0n3k.jpg下载完毕!!!\n",
      "jiandan/5950978dly1fyytr9zkuhj20ie0sgn0g.jpg下载完毕!!!\n",
      "jiandan/7d60d521gy1fyynbdrd5hj20l00s0wq2.jpg下载完毕!!!\n",
      "jiandan/0073tLPGgy1fyyirpfhx9j30u01404qp.jpg下载完毕!!!\n",
      "jiandan/0073tLPGgy1fyyi8zkvm4j30u0140u0x.jpg下载完毕!!!\n",
      "jiandan/62b20ff9gy1fyyh7mtj7jj20hs0hwwpv.jpg下载完毕!!!\n",
      "jiandan/62b20ff9gy1fyyh75gmtuj20p00xc7w2.jpg下载完毕!!!\n",
      "jiandan/62b20ff9gy1fyyh6tmfevj20l40l4tim.jpg下载完毕!!!\n",
      "jiandan/0076BSS5ly1fyygqruap9j30u01hcqch.jpg下载完毕!!!\n",
      "jiandan/93ba3bf9gy1fyyg5jek4mj20u011ix6p.jpg下载完毕!!!\n",
      "jiandan/62b20ff9gy1fyyg3socovj20l40l4agj.jpg下载完毕!!!\n",
      "jiandan/62b20ff9gy1fyyg3irkukj20tf1841kx.jpg下载完毕!!!\n",
      "jiandan/62b20ff9gy1fyyg2uxl2pj20m80uk4qp.jpg下载完毕!!!\n",
      "jiandan/62b20ff9gy1fyyg2kyymmj20l40l4wju.jpg下载完毕!!!\n",
      "jiandan/0076BSS5ly1fyyfyivz6uj30kw0ghnfm.jpg下载完毕!!!\n",
      "jiandan/005XRDjrly1fyyfvm97yij30i60r8tby.jpg下载完毕!!!\n"
     ]
    }
   ],
   "source": [
    "import requests\n",
    "import base64\n",
    "from lxml import etree\n",
    "import os\n",
    "headers = {\n",
    "    'User-Agent':'Mozilla/5.0 (Windows NT 6.1; Win64; x64) AppleWebKit/537.36 (KHTML, like Gecko) Chrome/71.0.3578.98 Safari/537.36'\n",
    "}\n",
    "if not os.path.exists('jiandan'):\n",
    "    os.mkdir('jiandan')\n",
    "    \n",
    "url = 'http://jandan.net/ooxx/page-46#comments'\n",
    "page_text = requests.get(url=url,headers=headers).text\n",
    "\n",
    "#解析scr的密文数据\n",
    "tree = etree.HTML(page_text)\n",
    "src_code_list = tree.xpath('//span[@class=\"img-hash\"]/text()')\n",
    "for src_code in src_code_list:\n",
    "    src = 'https:'+base64.b64decode(src_code).decode()\n",
    "    img_path = 'jiandan/'+src.split('/')[-1]\n",
    "    request.urlretrieve(url=src,filename=img_path)\n",
    "    print(img_path+'下载完毕!!!')\n"
   ]
  },
  {
   "cell_type": "code",
   "execution_count": null,
   "metadata": {},
   "outputs": [],
   "source": []
  },
  {
   "cell_type": "code",
   "execution_count": null,
   "metadata": {},
   "outputs": [],
   "source": []
  },
  {
   "cell_type": "code",
   "execution_count": null,
   "metadata": {},
   "outputs": [],
   "source": []
  },
  {
   "cell_type": "code",
   "execution_count": null,
   "metadata": {},
   "outputs": [],
   "source": []
  },
  {
   "cell_type": "code",
   "execution_count": null,
   "metadata": {},
   "outputs": [],
   "source": []
  },
  {
   "cell_type": "code",
   "execution_count": null,
   "metadata": {},
   "outputs": [],
   "source": []
  }
 ],
 "metadata": {
  "kernelspec": {
   "display_name": "Python 3",
   "language": "python",
   "name": "python3"
  },
  "language_info": {
   "codemirror_mode": {
    "name": "ipython",
    "version": 3
   },
   "file_extension": ".py",
   "mimetype": "text/x-python",
   "name": "python",
   "nbconvert_exporter": "python",
   "pygments_lexer": "ipython3",
   "version": "3.7.0"
  }
 },
 "nbformat": 4,
 "nbformat_minor": 2
}
