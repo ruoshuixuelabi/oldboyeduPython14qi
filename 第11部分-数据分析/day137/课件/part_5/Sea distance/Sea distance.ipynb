{
 "cells": [
  {
   "cell_type": "markdown",
   "metadata": {},
   "source": [
    "# 城市气候与海洋的关系研究"
   ]
  },
  {
   "cell_type": "markdown",
   "metadata": {},
   "source": [
    "导入包"
   ]
  },
  {
   "cell_type": "code",
   "execution_count": 2,
   "metadata": {},
   "outputs": [],
   "source": [
    "import numpy as np\n",
    "import pandas as pd\n",
    "from pandas import Series,DataFrame\n",
    "\n",
    "import matplotlib.pyplot as plt\n",
    "%matplotlib inline\n",
    "\n",
    "\n",
    "from pylab import mpl\n",
    "mpl.rcParams['font.sans-serif'] = ['FangSong'] # 指定默认字体\n",
    "mpl.rcParams['axes.unicode_minus'] = False # 解决保存图像是负号'-'显示为方块的问题"
   ]
  },
  {
   "cell_type": "markdown",
   "metadata": {},
   "source": [
    "导入数据各个海滨城市数据"
   ]
  },
  {
   "cell_type": "code",
   "execution_count": 8,
   "metadata": {},
   "outputs": [],
   "source": [
    "ferrara1 = pd.read_csv('./ferrara_150715.csv')\n",
    "ferrara2 = pd.read_csv('./ferrara_250715.csv')\n",
    "ferrara3 = pd.read_csv('./ferrara_270615.csv')\n",
    "ferrara=pd.concat([ferrara1,ferrara1,ferrara1],ignore_index=True)\n",
    "\n",
    "torino1 = pd.read_csv('./torino_150715.csv')\n",
    "torino2 = pd.read_csv('./torino_250715.csv')\n",
    "torino3 = pd.read_csv('./torino_270615.csv')\n",
    "torino = pd.concat([torino1,torino2,torino3],ignore_index=True) \n",
    "\n",
    "mantova1 = pd.read_csv('./mantova_150715.csv')\n",
    "mantova2 = pd.read_csv('./mantova_250715.csv')\n",
    "mantova3 = pd.read_csv('./mantova_270615.csv')\n",
    "mantova = pd.concat([mantova1,mantova2,mantova3],ignore_index=True) \n",
    "\n",
    "milano1 = pd.read_csv('./milano_150715.csv')\n",
    "milano2 = pd.read_csv('./milano_250715.csv')\n",
    "milano3 = pd.read_csv('./milano_270615.csv')\n",
    "milano = pd.concat([milano1,milano2,milano3],ignore_index=True) \n",
    "\n",
    "ravenna1 = pd.read_csv('./ravenna_150715.csv')\n",
    "ravenna2 = pd.read_csv('./ravenna_250715.csv')\n",
    "ravenna3 = pd.read_csv('./ravenna_270615.csv')\n",
    "ravenna = pd.concat([ravenna1,ravenna2,ravenna3],ignore_index=True)\n",
    "\n",
    "asti1 = pd.read_csv('./asti_150715.csv')\n",
    "asti2 = pd.read_csv('./asti_250715.csv')\n",
    "asti3 = pd.read_csv('./asti_270615.csv')\n",
    "asti = pd.concat([asti1,asti2,asti3],ignore_index=True)\n",
    "\n",
    "bologna1 = pd.read_csv('./bologna_150715.csv')\n",
    "bologna2 = pd.read_csv('./bologna_250715.csv')\n",
    "bologna3 = pd.read_csv('./bologna_270615.csv')\n",
    "bologna = pd.concat([bologna1,bologna2,bologna3],ignore_index=True)\n",
    "\n",
    "piacenza1 = pd.read_csv('./piacenza_150715.csv')\n",
    "piacenza2 = pd.read_csv('./piacenza_250715.csv')\n",
    "piacenza3 = pd.read_csv('./piacenza_270615.csv')\n",
    "piacenza = pd.concat([piacenza1,piacenza2,piacenza3],ignore_index=True)\n",
    "\n",
    "cesena1 = pd.read_csv('./cesena_150715.csv')\n",
    "cesena2 = pd.read_csv('./cesena_250715.csv')\n",
    "cesena3 = pd.read_csv('./cesena_270615.csv')\n",
    "cesena = pd.concat([cesena1,cesena2,cesena3],ignore_index=True)\n",
    "\n",
    "faenza1 = pd.read_csv('./faenza_150715.csv')\n",
    "faenza2 = pd.read_csv('./faenza_250715.csv')\n",
    "faenza3 = pd.read_csv('./faenza_270615.csv')\n",
    "faenza = pd.concat([faenza1,faenza2,faenza3],ignore_index=True)"
   ]
  },
  {
   "cell_type": "markdown",
   "metadata": {},
   "source": [
    "去除没用的列"
   ]
  },
  {
   "cell_type": "code",
   "execution_count": 16,
   "metadata": {
    "scrolled": true
   },
   "outputs": [
    {
     "data": {
      "text/html": [
       "<div>\n",
       "<style scoped>\n",
       "    .dataframe tbody tr th:only-of-type {\n",
       "        vertical-align: middle;\n",
       "    }\n",
       "\n",
       "    .dataframe tbody tr th {\n",
       "        vertical-align: top;\n",
       "    }\n",
       "\n",
       "    .dataframe thead th {\n",
       "        text-align: right;\n",
       "    }\n",
       "</style>\n",
       "<table border=\"1\" class=\"dataframe\">\n",
       "  <thead>\n",
       "    <tr style=\"text-align: right;\">\n",
       "      <th></th>\n",
       "      <th>temp</th>\n",
       "      <th>humidity</th>\n",
       "      <th>pressure</th>\n",
       "      <th>description</th>\n",
       "      <th>dt</th>\n",
       "      <th>wind_speed</th>\n",
       "      <th>wind_deg</th>\n",
       "      <th>city</th>\n",
       "      <th>day</th>\n",
       "      <th>dist</th>\n",
       "    </tr>\n",
       "  </thead>\n",
       "  <tbody>\n",
       "    <tr>\n",
       "      <th>0</th>\n",
       "      <td>29.15</td>\n",
       "      <td>83</td>\n",
       "      <td>1015</td>\n",
       "      <td>moderate rain</td>\n",
       "      <td>1436863101</td>\n",
       "      <td>3.62</td>\n",
       "      <td>94.001</td>\n",
       "      <td>Cesena</td>\n",
       "      <td>2015-07-14 10:38:21</td>\n",
       "      <td>14</td>\n",
       "    </tr>\n",
       "  </tbody>\n",
       "</table>\n",
       "</div>"
      ],
      "text/plain": [
       "    temp  humidity  pressure    description          dt  wind_speed  wind_deg  \\\n",
       "0  29.15        83      1015  moderate rain  1436863101        3.62    94.001   \n",
       "\n",
       "     city                  day  dist  \n",
       "0  Cesena  2015-07-14 10:38:21    14  "
      ]
     },
     "execution_count": 16,
     "metadata": {},
     "output_type": "execute_result"
    }
   ],
   "source": [
    "cesena.head(1)"
   ]
  },
  {
   "cell_type": "code",
   "execution_count": 15,
   "metadata": {},
   "outputs": [],
   "source": [
    "city_list = [ferrara,torino,mantova,milano,ravenna,asti,bologna,piacenza,cesena,faenza]\n",
    "for city in city_list:\n",
    "    city.drop('Unnamed: 0',axis=1,inplace=True)"
   ]
  },
  {
   "cell_type": "markdown",
   "metadata": {},
   "source": [
    "显示最高温度于离海远近的关系（观察多个城市）"
   ]
  },
  {
   "cell_type": "code",
   "execution_count": 21,
   "metadata": {},
   "outputs": [],
   "source": [
    "city_max_temp = []\n",
    "city_dist = []\n",
    "for city in city_list:\n",
    "    temp = city['temp'].max()\n",
    "    dist = city['dist'].max()\n",
    "    city_max_temp.append(temp)\n",
    "    city_dist.append(dist)\n",
    "    "
   ]
  },
  {
   "cell_type": "code",
   "execution_count": 24,
   "metadata": {},
   "outputs": [
    {
     "data": {
      "text/plain": [
       "[47, 357, 121, 250, 8, 315, 71, 200, 14, 37]"
      ]
     },
     "execution_count": 24,
     "metadata": {},
     "output_type": "execute_result"
    }
   ],
   "source": [
    "city_dist\n",
    "#city_max_temp"
   ]
  },
  {
   "cell_type": "code",
   "execution_count": 25,
   "metadata": {},
   "outputs": [
    {
     "data": {
      "text/plain": [
       "<matplotlib.collections.PathCollection at 0x1170ac630>"
      ]
     },
     "execution_count": 25,
     "metadata": {},
     "output_type": "execute_result"
    },
    {
     "data": {
      "image/png": "[encoded data removed]",
      "text/plain": [
       "<Figure size 432x288 with 1 Axes>"
      ]
     },
     "metadata": {},
     "output_type": "display_data"
    }
   ],
   "source": [
    "plt.scatter(city_dist,city_max_temp)"
   ]
  },
  {
   "cell_type": "markdown",
   "metadata": {},
   "source": [
    "观察发现，离海近的可以形成一条直线，离海远的也能形成一条直线。\n",
    "\n",
    "    - 分别以100公里和50公里为分界点，划分为离海近和离海远的两组数据(近海：小于100  远海：大于50)"
   ]
  },
  {
   "cell_type": "code",
   "execution_count": 35,
   "metadata": {},
   "outputs": [],
   "source": [
    "city_dist = np.array(city_dist)\n",
    "city_max_temp = np.array(city_max_temp)"
   ]
  },
  {
   "cell_type": "code",
   "execution_count": 36,
   "metadata": {},
   "outputs": [],
   "source": [
    "condition = city_dist < 100\n",
    "near_city_dist = city_dist[condition]\n",
    "near_city_temp = city_max_temp[condition]"
   ]
  },
  {
   "cell_type": "code",
   "execution_count": 38,
   "metadata": {
    "scrolled": true
   },
   "outputs": [
    {
     "data": {
      "text/plain": [
       "array([33.74207562])"
      ]
     },
     "execution_count": 38,
     "metadata": {},
     "output_type": "execute_result"
    }
   ],
   "source": [
    "from sklearn.linear_model import LinearRegression\n",
    "l = LinearRegression()\n",
    "l.fit(near_city_dist.reshape(-1,1),near_city_temp)\n",
    "l.predict(89)"
   ]
  },
  {
   "cell_type": "code",
   "execution_count": 39,
   "metadata": {
    "scrolled": true
   },
   "outputs": [
    {
     "data": {
      "text/plain": [
       "<matplotlib.collections.PathCollection at 0x1a192a85c0>"
      ]
     },
     "execution_count": 39,
     "metadata": {},
     "output_type": "execute_result"
    },
    {
     "data": {
      "image/png": "[encoded data removed]",
      "text/plain": [
       "<Figure size 432x288 with 1 Axes>"
      ]
     },
     "metadata": {},
     "output_type": "display_data"
    }
   ],
   "source": [
    "plt.scatter(near_city_dist,near_city_temp)"
   ]
  },
  {
   "cell_type": "code",
   "execution_count": 43,
   "metadata": {},
   "outputs": [
    {
     "data": {
      "text/plain": [
       "<matplotlib.collections.PathCollection at 0x1a19462d68>"
      ]
     },
     "execution_count": 43,
     "metadata": {},
     "output_type": "execute_result"
    },
    {
     "data": {
      "image/png": "[encoded data removed]",
      "text/plain": [
       "<Figure size 432x288 with 1 Axes>"
      ]
     },
     "metadata": {},
     "output_type": "display_data"
    }
   ],
   "source": [
    "x = np.linspace(0,80,100)\n",
    "y = l.predict(x.reshape(-1,1))\n",
    "plt.scatter(x,y)\n",
    "plt.scatter(near_city_dist,near_city_temp)"
   ]
  },
  {
   "cell_type": "markdown",
   "metadata": {},
   "source": [
    "导入sklearn，建立线性回归算法模型对象"
   ]
  },
  {
   "cell_type": "code",
   "execution_count": null,
   "metadata": {},
   "outputs": [],
   "source": []
  },
  {
   "cell_type": "markdown",
   "metadata": {},
   "source": [
    "样本集：用于对机器学习算法模型对象进行训练。样本集通常为一个DataFrame。\n",
    "    - 特征数据：特征数据的变化会影响目标数据的变化。通常为多列。\n",
    "    - 目标数据：结果。通常为一列。"
   ]
  },
  {
   "cell_type": "markdown",
   "metadata": {},
   "source": [
    "使用样本数据对模型进行训练"
   ]
  },
  {
   "cell_type": "code",
   "execution_count": null,
   "metadata": {},
   "outputs": [],
   "source": []
  },
  {
   "cell_type": "markdown",
   "metadata": {},
   "source": [
    "对模型进行精准度的评分"
   ]
  },
  {
   "cell_type": "code",
   "execution_count": null,
   "metadata": {},
   "outputs": [],
   "source": []
  },
  {
   "cell_type": "markdown",
   "metadata": {},
   "source": [
    "使用模型进行预测"
   ]
  },
  {
   "cell_type": "code",
   "execution_count": null,
   "metadata": {
    "scrolled": true
   },
   "outputs": [],
   "source": []
  },
  {
   "cell_type": "code",
   "execution_count": null,
   "metadata": {},
   "outputs": [],
   "source": []
  },
  {
   "cell_type": "markdown",
   "metadata": {},
   "source": [
    "将远海城市的数据带入到散点图中进行展示，并且进行线性回归"
   ]
  },
  {
   "cell_type": "code",
   "execution_count": null,
   "metadata": {
    "scrolled": true
   },
   "outputs": [],
   "source": []
  },
  {
   "cell_type": "markdown",
   "metadata": {},
   "source": [
    "将近海城市的数据带入到散点图中进行展示，并且进行线性回归"
   ]
  },
  {
   "cell_type": "code",
   "execution_count": null,
   "metadata": {},
   "outputs": [],
   "source": []
  },
  {
   "cell_type": "markdown",
   "metadata": {},
   "source": [
    "将近海和远海的散点图合并显示"
   ]
  },
  {
   "cell_type": "code",
   "execution_count": null,
   "metadata": {
    "scrolled": false
   },
   "outputs": [],
   "source": []
  },
  {
   "cell_type": "markdown",
   "metadata": {
    "collapsed": true
   },
   "source": [
    "查看最低温度与海洋距离的关系"
   ]
  },
  {
   "cell_type": "markdown",
   "metadata": {},
   "source": [
    "最低湿度与海洋距离的关系"
   ]
  },
  {
   "cell_type": "markdown",
   "metadata": {},
   "source": [
    "最高湿度与海洋距离的关系"
   ]
  },
  {
   "cell_type": "markdown",
   "metadata": {},
   "source": [
    "平均湿度与海洋距离的关系"
   ]
  },
  {
   "cell_type": "code",
   "execution_count": null,
   "metadata": {
    "collapsed": true
   },
   "outputs": [],
   "source": []
  }
 ],
 "metadata": {
  "kernelspec": {
   "display_name": "Python 3",
   "language": "python",
   "name": "python3"
  },
  "language_info": {
   "codemirror_mode": {
    "name": "ipython",
    "version": 3
   },
   "file_extension": ".py",
   "mimetype": "text/x-python",
   "name": "python",
   "nbconvert_exporter": "python",
   "pygments_lexer": "ipython3",
   "version": "3.6.5"
  }
 },
 "nbformat": 4,
 "nbformat_minor": 1
}
