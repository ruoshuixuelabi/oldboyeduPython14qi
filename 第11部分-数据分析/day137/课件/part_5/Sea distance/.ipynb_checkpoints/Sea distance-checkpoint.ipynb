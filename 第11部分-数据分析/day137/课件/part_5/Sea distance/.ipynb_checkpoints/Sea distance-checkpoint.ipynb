{
 "cells": [
  {
   "cell_type": "raw",
   "metadata": {},
   "source": [
    "# 城市气候与海洋的关系研究"
   ]
  },
  {
   "cell_type": "markdown",
   "metadata": {},
   "source": [
    "导入包"
   ]
  },
  {
   "cell_type": "code",
   "execution_count": 16,
   "metadata": {
    "collapsed": true
   },
   "outputs": [],
   "source": [
    "import numpy as np\n",
    "import pandas as pd\n",
    "from pandas import Series,DataFrame\n",
    "\n",
    "import matplotlib.pyplot as plt\n",
    "%matplotlib inline\n",
    "\n",
    "# 设置显示汉字\n",
    "import sys\n",
    "reload(sys)\n",
    "sys.setdefaultencoding('utf8')\n",
    "\n",
    "\n",
    "from pylab import mpl\n",
    "mpl.rcParams['font.sans-serif'] = ['FangSong'] # 指定默认字体\n",
    "mpl.rcParams['axes.unicode_minus'] = False # 解决保存图像是负号'-'显示为方块的问题"
   ]
  },
  {
   "cell_type": "markdown",
   "metadata": {},
   "source": [
    "导入数据各个海滨城市数据"
   ]
  },
  {
   "cell_type": "code",
   "execution_count": 17,
   "metadata": {
    "collapsed": false
   },
   "outputs": [
    {
     "data": {
      "text/html": [
       "<div>\n",
       "<table border=\"1\" class=\"dataframe\">\n",
       "  <thead>\n",
       "    <tr style=\"text-align: right;\">\n",
       "      <th></th>\n",
       "      <th>Unnamed: 0</th>\n",
       "      <th>temp</th>\n",
       "      <th>humidity</th>\n",
       "      <th>pressure</th>\n",
       "      <th>description</th>\n",
       "      <th>dt</th>\n",
       "      <th>wind_speed</th>\n",
       "      <th>wind_deg</th>\n",
       "      <th>city</th>\n",
       "      <th>day</th>\n",
       "      <th>dist</th>\n",
       "    </tr>\n",
       "  </thead>\n",
       "  <tbody>\n",
       "    <tr>\n",
       "      <th>0</th>\n",
       "      <td>0</td>\n",
       "      <td>29.40</td>\n",
       "      <td>83</td>\n",
       "      <td>1015</td>\n",
       "      <td>moderate rain</td>\n",
       "      <td>1436863177</td>\n",
       "      <td>3.62</td>\n",
       "      <td>94.001</td>\n",
       "      <td>Faenza</td>\n",
       "      <td>2015-07-14 10:39:37</td>\n",
       "      <td>37</td>\n",
       "    </tr>\n",
       "    <tr>\n",
       "      <th>1</th>\n",
       "      <td>1</td>\n",
       "      <td>30.12</td>\n",
       "      <td>78</td>\n",
       "      <td>1015</td>\n",
       "      <td>moderate rain</td>\n",
       "      <td>1436866759</td>\n",
       "      <td>3.10</td>\n",
       "      <td>80.000</td>\n",
       "      <td>Faenza</td>\n",
       "      <td>2015-07-14 11:39:19</td>\n",
       "      <td>37</td>\n",
       "    </tr>\n",
       "    <tr>\n",
       "      <th>2</th>\n",
       "      <td>2</td>\n",
       "      <td>30.10</td>\n",
       "      <td>78</td>\n",
       "      <td>1015</td>\n",
       "      <td>moderate rain</td>\n",
       "      <td>1436870510</td>\n",
       "      <td>3.60</td>\n",
       "      <td>70.000</td>\n",
       "      <td>Faenza</td>\n",
       "      <td>2015-07-14 12:41:50</td>\n",
       "      <td>37</td>\n",
       "    </tr>\n",
       "    <tr>\n",
       "      <th>3</th>\n",
       "      <td>3</td>\n",
       "      <td>30.75</td>\n",
       "      <td>74</td>\n",
       "      <td>1015</td>\n",
       "      <td>moderate rain</td>\n",
       "      <td>1436874099</td>\n",
       "      <td>4.60</td>\n",
       "      <td>90.000</td>\n",
       "      <td>Faenza</td>\n",
       "      <td>2015-07-14 13:41:39</td>\n",
       "      <td>37</td>\n",
       "    </tr>\n",
       "    <tr>\n",
       "      <th>4</th>\n",
       "      <td>4</td>\n",
       "      <td>30.71</td>\n",
       "      <td>66</td>\n",
       "      <td>1015</td>\n",
       "      <td>moderate rain</td>\n",
       "      <td>1436877646</td>\n",
       "      <td>5.10</td>\n",
       "      <td>100.000</td>\n",
       "      <td>Faenza</td>\n",
       "      <td>2015-07-14 14:40:46</td>\n",
       "      <td>37</td>\n",
       "    </tr>\n",
       "  </tbody>\n",
       "</table>\n",
       "</div>"
      ],
      "text/plain": [
       "   Unnamed: 0   temp  humidity  pressure    description          dt  \\\n",
       "0           0  29.40        83      1015  moderate rain  1436863177   \n",
       "1           1  30.12        78      1015  moderate rain  1436866759   \n",
       "2           2  30.10        78      1015  moderate rain  1436870510   \n",
       "3           3  30.75        74      1015  moderate rain  1436874099   \n",
       "4           4  30.71        66      1015  moderate rain  1436877646   \n",
       "\n",
       "   wind_speed  wind_deg    city                  day  dist  \n",
       "0        3.62    94.001  Faenza  2015-07-14 10:39:37    37  \n",
       "1        3.10    80.000  Faenza  2015-07-14 11:39:19    37  \n",
       "2        3.60    70.000  Faenza  2015-07-14 12:41:50    37  \n",
       "3        4.60    90.000  Faenza  2015-07-14 13:41:39    37  \n",
       "4        5.10   100.000  Faenza  2015-07-14 14:40:46    37  "
      ]
     },
     "execution_count": 17,
     "metadata": {},
     "output_type": "execute_result"
    }
   ],
   "source": [
    "ferrara1 = pd.read_csv('./ferrara_150715.csv')\n",
    "ferrara2 = pd.read_csv('./ferrara_250715.csv')\n",
    "ferrara3 = pd.read_csv('./ferrara_270615.csv')\n",
    "ferrara=pd.concat([ferrara1,ferrara1,ferrara1],ignore_index=True)\n",
    "\n",
    "torino1 = pd.read_csv('./torino_150715.csv')\n",
    "torino2 = pd.read_csv('./torino_250715.csv')\n",
    "torino3 = pd.read_csv('./torino_270615.csv')\n",
    "torino = pd.concat([torino1,torino2,torino3],ignore_index=True) \n",
    "\n",
    "mantova1 = pd.read_csv('./mantova_150715.csv')\n",
    "mantova2 = pd.read_csv('./mantova_250715.csv')\n",
    "mantova3 = pd.read_csv('./mantova_270615.csv')\n",
    "mantova = pd.concat([mantova1,mantova2,mantova3],ignore_index=True) \n",
    "\n",
    "milano1 = pd.read_csv('./milano_150715.csv')\n",
    "milano2 = pd.read_csv('./milano_250715.csv')\n",
    "milano3 = pd.read_csv('./milano_270615.csv')\n",
    "milano = pd.concat([milano1,milano2,milano3],ignore_index=True) \n",
    "\n",
    "ravenna1 = pd.read_csv('./ravenna_150715.csv')\n",
    "ravenna2 = pd.read_csv('./ravenna_250715.csv')\n",
    "ravenna3 = pd.read_csv('./ravenna_270615.csv')\n",
    "ravenna = pd.concat([ravenna1,ravenna2,ravenna3],ignore_index=True)\n",
    "\n",
    "asti1 = pd.read_csv('./asti_150715.csv')\n",
    "asti2 = pd.read_csv('./asti_250715.csv')\n",
    "asti3 = pd.read_csv('./asti_270615.csv')\n",
    "asti = pd.concat([asti1,asti2,asti3],ignore_index=True)\n",
    "\n",
    "bologna1 = pd.read_csv('./bologna_150715.csv')\n",
    "bologna2 = pd.read_csv('./bologna_250715.csv')\n",
    "bologna3 = pd.read_csv('./bologna_270615.csv')\n",
    "bologna = pd.concat([bologna1,bologna2,bologna3],ignore_index=True)\n",
    "\n",
    "piacenza1 = pd.read_csv('./piacenza_150715.csv')\n",
    "piacenza2 = pd.read_csv('./piacenza_250715.csv')\n",
    "piacenza3 = pd.read_csv('./piacenza_270615.csv')\n",
    "piacenza = pd.concat([piacenza1,piacenza2,piacenza3],ignore_index=True)\n",
    "\n",
    "cesena1 = pd.read_csv('./cesena_150715.csv')\n",
    "cesena2 = pd.read_csv('./cesena_250715.csv')\n",
    "cesena3 = pd.read_csv('./cesena_270615.csv')\n",
    "cesena = pd.concat([cesena1,cesena2,cesena3],ignore_index=True)\n",
    "\n",
    "faenza1 = pd.read_csv('./faenza_150715.csv')\n",
    "faenza2 = pd.read_csv('./faenza_250715.csv')\n",
    "faenza3 = pd.read_csv('./faenza_270615.csv')\n",
    "faenza = pd.concat([faenza1,faenza2,faenza3],ignore_index=True)\n",
    "faenza.head()"
   ]
  },
  {
   "cell_type": "markdown",
   "metadata": {},
   "source": [
    "查看列数"
   ]
  },
  {
   "cell_type": "code",
   "execution_count": 6,
   "metadata": {
    "collapsed": true
   },
   "outputs": [
    {
     "data": {
      "text/plain": [
       "Unnamed: 0       int64\n",
       "temp           float64\n",
       "humidity         int64\n",
       "pressure         int64\n",
       "description     object\n",
       "dt               int64\n",
       "wind_speed     float64\n",
       "wind_deg       float64\n",
       "city            object\n",
       "day             object\n",
       "dist             int64\n",
       "dtype: object"
      ]
     },
     "execution_count": 6,
     "metadata": {},
     "output_type": "execute_result"
    }
   ],
   "source": [
    "faenza.dtypes"
   ]
  },
  {
   "cell_type": "markdown",
   "metadata": {},
   "source": [
    "去除没用的列"
   ]
  },
  {
   "cell_type": "code",
   "execution_count": 7,
   "metadata": {
    "collapsed": false
   },
   "outputs": [],
   "source": [
    "#该列表中存放的是所有城市的DataFrame\n",
    "citys=[ferrara,torino,mantova,milano,ravenna,asti,bologna,piacenza,cesena,faenza]"
   ]
  },
  {
   "cell_type": "code",
   "execution_count": 8,
   "metadata": {
    "collapsed": true
   },
   "outputs": [],
   "source": [
    "for city in citys:\n",
    "    city.drop('Unnamed: 0',axis=1,inplace=True)"
   ]
  },
  {
   "cell_type": "code",
   "execution_count": 9,
   "metadata": {
    "collapsed": false,
    "scrolled": true
   },
   "outputs": [
    {
     "data": {
      "text/html": [
       "<div>\n",
       "<table border=\"1\" class=\"dataframe\">\n",
       "  <thead>\n",
       "    <tr style=\"text-align: right;\">\n",
       "      <th></th>\n",
       "      <th>temp</th>\n",
       "      <th>humidity</th>\n",
       "      <th>pressure</th>\n",
       "      <th>description</th>\n",
       "      <th>dt</th>\n",
       "      <th>wind_speed</th>\n",
       "      <th>wind_deg</th>\n",
       "      <th>city</th>\n",
       "      <th>day</th>\n",
       "      <th>dist</th>\n",
       "    </tr>\n",
       "  </thead>\n",
       "  <tbody>\n",
       "    <tr>\n",
       "      <th>0</th>\n",
       "      <td>28.34</td>\n",
       "      <td>65</td>\n",
       "      <td>1017</td>\n",
       "      <td>Sky is Clear</td>\n",
       "      <td>1436863109</td>\n",
       "      <td>3.1</td>\n",
       "      <td>20</td>\n",
       "      <td>Torino</td>\n",
       "      <td>2015-07-14 10:38:29</td>\n",
       "      <td>357</td>\n",
       "    </tr>\n",
       "    <tr>\n",
       "      <th>1</th>\n",
       "      <td>29.25</td>\n",
       "      <td>65</td>\n",
       "      <td>1017</td>\n",
       "      <td>Sky is Clear</td>\n",
       "      <td>1436866696</td>\n",
       "      <td>3.1</td>\n",
       "      <td>80</td>\n",
       "      <td>Torino</td>\n",
       "      <td>2015-07-14 11:38:16</td>\n",
       "      <td>357</td>\n",
       "    </tr>\n",
       "    <tr>\n",
       "      <th>2</th>\n",
       "      <td>30.40</td>\n",
       "      <td>58</td>\n",
       "      <td>1017</td>\n",
       "      <td>Sky is Clear</td>\n",
       "      <td>1436870399</td>\n",
       "      <td>2.6</td>\n",
       "      <td>100</td>\n",
       "      <td>Torino</td>\n",
       "      <td>2015-07-14 12:39:59</td>\n",
       "      <td>357</td>\n",
       "    </tr>\n",
       "  </tbody>\n",
       "</table>\n",
       "</div>"
      ],
      "text/plain": [
       "    temp  humidity  pressure   description          dt  wind_speed  wind_deg  \\\n",
       "0  28.34        65      1017  Sky is Clear  1436863109         3.1        20   \n",
       "1  29.25        65      1017  Sky is Clear  1436866696         3.1        80   \n",
       "2  30.40        58      1017  Sky is Clear  1436870399         2.6       100   \n",
       "\n",
       "     city                  day  dist  \n",
       "0  Torino  2015-07-14 10:38:29   357  \n",
       "1  Torino  2015-07-14 11:38:16   357  \n",
       "2  Torino  2015-07-14 12:39:59   357  "
      ]
     },
     "execution_count": 9,
     "metadata": {},
     "output_type": "execute_result"
    }
   ],
   "source": [
    "torino.head(3)"
   ]
  },
  {
   "cell_type": "markdown",
   "metadata": {},
   "source": [
    "显示最高温度于离海远近的关系（观察多个城市）"
   ]
  },
  {
   "cell_type": "code",
   "execution_count": 10,
   "metadata": {
    "collapsed": false
   },
   "outputs": [],
   "source": [
    "#获取各个城市的最高温度的数据\n",
    "max_temps=[]\n",
    "for city in citys:\n",
    "    temp=city['temp'].max()\n",
    "    max_temps.append(temp)"
   ]
  },
  {
   "cell_type": "code",
   "execution_count": 11,
   "metadata": {
    "collapsed": false
   },
   "outputs": [
    {
     "data": {
      "text/plain": [
       "[32.75,\n",
       " 34.689999999999998,\n",
       " 34.180000000000007,\n",
       " 34.810000000000002,\n",
       " 32.79000000000002,\n",
       " 34.310000000000002,\n",
       " 33.850000000000016,\n",
       " 33.920000000000016,\n",
       " 32.810000000000002,\n",
       " 32.740000000000009]"
      ]
     },
     "execution_count": 11,
     "metadata": {},
     "output_type": "execute_result"
    }
   ],
   "source": [
    "#查看各个城市的最高温度数据\n",
    "max_temps"
   ]
  },
  {
   "cell_type": "code",
   "execution_count": 12,
   "metadata": {
    "collapsed": true
   },
   "outputs": [],
   "source": [
    "#获取各个城市的距海距离的数据\n",
    "city_dists=[]\n",
    "for city in citys:\n",
    "    dist=city['dist'][0]\n",
    "    city_dists.append(dist)"
   ]
  },
  {
   "cell_type": "code",
   "execution_count": 13,
   "metadata": {
    "collapsed": false
   },
   "outputs": [
    {
     "data": {
      "text/plain": [
       "[47, 357, 121, 250, 8, 315, 71, 200, 14, 37]"
      ]
     },
     "execution_count": 13,
     "metadata": {},
     "output_type": "execute_result"
    }
   ],
   "source": [
    "#查看各个城市距离海洋的距离数据\n",
    "city_dists"
   ]
  },
  {
   "cell_type": "code",
   "execution_count": 14,
   "metadata": {
    "collapsed": false
   },
   "outputs": [
    {
     "data": {
      "text/plain": [
       "<matplotlib.text.Text at 0x119fef990>"
      ]
     },
     "execution_count": 14,
     "metadata": {},
     "output_type": "execute_result"
    },
    {
     "data": {
      "image/png": "[encoded data removed]",
      "text/plain": [
       "<matplotlib.figure.Figure at 0x119cda410>"
      ]
     },
     "metadata": {},
     "output_type": "display_data"
    }
   ],
   "source": [
    "plt.figure(figsize=(8,8))\n",
    "plt.scatter(city_dists,max_temps)\n",
    "plt.title('最高温度和距海洋距离的关系图',fontsize=20)\n",
    "plt.xlabel('距海洋距离',fontsize=15)\n",
    "plt.ylabel('最高温度',fontsize=15)"
   ]
  },
  {
   "cell_type": "markdown",
   "metadata": {},
   "source": [
    "观察发现，离海近的可以形成一条直线，离海远的也能形成一条直线。\n",
    "\n",
    "    - 分别以100公里和50公里为分界点，划分为离海近和离海远的两组数据(近海：小于100  远海：大于50)"
   ]
  },
  {
   "cell_type": "code",
   "execution_count": 19,
   "metadata": {
    "collapsed": false
   },
   "outputs": [],
   "source": [
    "#np_city_dists中存放的是所有城市的距海洋距离\n",
    "np_city_dists=np.array(city_dists)\n",
    "#np_max_temps中存放的是所有城市的最高温度的数据值\n",
    "np_max_temps=np.array(max_temps)"
   ]
  },
  {
   "cell_type": "code",
   "execution_count": 20,
   "metadata": {
    "collapsed": false
   },
   "outputs": [],
   "source": [
    "#获取远海和近海城市判断条件\n",
    "far_condition=np_city_dists > 50\n",
    "near_condition=np_city_dists < 100"
   ]
  },
  {
   "cell_type": "code",
   "execution_count": 21,
   "metadata": {
    "collapsed": false
   },
   "outputs": [],
   "source": [
    "#获取远海城市的最高温度的数据值和距离海洋距离的数据值\n",
    "#1.获取远海城市的最高温度数据值 \n",
    "far_max_temps=np_max_temps[far_condition]\n",
    "#2.获取远海城市距海洋的距离数据值\n",
    "far_city_dists=np_city_dists[far_condition]"
   ]
  },
  {
   "cell_type": "code",
   "execution_count": 50,
   "metadata": {
    "collapsed": true
   },
   "outputs": [],
   "source": [
    "#建立线性回归模型来预测该线性的规律 \n",
    "from sklearn.linear_model import LinearRegression\n",
    "#构建一个线性回归模型对象 \n",
    "linear=LinearRegression()"
   ]
  },
  {
   "cell_type": "code",
   "execution_count": 51,
   "metadata": {
    "collapsed": false
   },
   "outputs": [
    {
     "data": {
      "text/plain": [
       "LinearRegression(copy_X=True, fit_intercept=True, n_jobs=1, normalize=False)"
      ]
     },
     "execution_count": 51,
     "metadata": {},
     "output_type": "execute_result"
    }
   ],
   "source": [
    "#给模型传入数据值，进行求解(将数据带入模型，对模型进行训练==》训练数据)\n",
    "#样本集：特征数据+目标数据   特征数据的变化会影响/导致目标数据的变化（比如面积会影响房价的变化）\n",
    "#特征数据必须以列的形式进行展现（存储）：特征数据会包含多种特征因素，每一种特征因素都以一列的形式展示。\n",
    "linear.fit(far_city_dists.reshape(-1,1),far_max_temps)"
   ]
  },
  {
   "cell_type": "code",
   "execution_count": 52,
   "metadata": {
    "collapsed": false
   },
   "outputs": [
    {
     "data": {
      "text/plain": [
       "array([ 34.5004011])"
      ]
     },
     "execution_count": 52,
     "metadata": {},
     "output_type": "execute_result"
    }
   ],
   "source": [
    "#预测\n",
    "linear.predict(300)"
   ]
  },
  {
   "cell_type": "code",
   "execution_count": 55,
   "metadata": {
    "collapsed": false
   },
   "outputs": [],
   "source": [
    "x=np.linspace(far_city_dists.min(),far_city_dists.max(),100)\n",
    "y=linear.predict(x.reshape(-1,1))"
   ]
  },
  {
   "cell_type": "code",
   "execution_count": 56,
   "metadata": {
    "collapsed": false,
    "scrolled": true
   },
   "outputs": [
    {
     "data": {
      "text/plain": [
       "[<matplotlib.lines.Line2D at 0x117ddd510>]"
      ]
     },
     "execution_count": 56,
     "metadata": {},
     "output_type": "execute_result"
    },
    {
     "data": {
      "image/png": "[encoded data removed]",
      "text/plain": [
       "<matplotlib.figure.Figure at 0x117dddc90>"
      ]
     },
     "metadata": {},
     "output_type": "display_data"
    }
   ],
   "source": [
    "#将远海城市的数据值带入到散点图进行展示\n",
    "plt.scatter(far_city_dists,far_max_temps)\n",
    "plt.plot(x,y)"
   ]
  },
  {
   "cell_type": "code",
   "execution_count": 57,
   "metadata": {
    "collapsed": false
   },
   "outputs": [],
   "source": [
    "#获取所有近海城市的距海洋的距离数据值\n",
    "near_city_dists=np_city_dists[near_condition]\n",
    "#获取所有近海城市最高温度的数据值\n",
    "near_max_temps=np_max_temps[near_condition]"
   ]
  },
  {
   "cell_type": "code",
   "execution_count": 58,
   "metadata": {
    "collapsed": false,
    "scrolled": true
   },
   "outputs": [
    {
     "data": {
      "text/plain": [
       "array([ 36.71054493])"
      ]
     },
     "execution_count": 58,
     "metadata": {},
     "output_type": "execute_result"
    }
   ],
   "source": [
    "linear=LinearRegression()\n",
    "linear.fit(near_city_dists.reshape(-1,1),near_max_temps)\n",
    "linear.predict(300)"
   ]
  },
  {
   "cell_type": "code",
   "execution_count": 59,
   "metadata": {
    "collapsed": true
   },
   "outputs": [],
   "source": [
    "x1=np.linspace(near_city_dists.min(),near_city_dists.max(),100)\n",
    "y1=linear.predict(x1.reshape(-1,1))"
   ]
  },
  {
   "cell_type": "code",
   "execution_count": 60,
   "metadata": {
    "collapsed": false,
    "scrolled": true
   },
   "outputs": [
    {
     "data": {
      "text/plain": [
       "[<matplotlib.lines.Line2D at 0x1181fddd0>]"
      ]
     },
     "execution_count": 60,
     "metadata": {},
     "output_type": "execute_result"
    },
    {
     "data": {
      "image/png": "[encoded data removed]",
      "text/plain": [
       "<matplotlib.figure.Figure at 0x1181fdd90>"
      ]
     },
     "metadata": {},
     "output_type": "display_data"
    }
   ],
   "source": [
    "#使用散点图展示所有近海城市最高温度和距海洋距离的关系\n",
    "plt.scatter(near_city_dists,near_max_temps)\n",
    "plt.plot(x1,y1)"
   ]
  },
  {
   "cell_type": "code",
   "execution_count": 61,
   "metadata": {
    "collapsed": false,
    "scrolled": false
   },
   "outputs": [
    {
     "data": {
      "text/plain": [
       "<matplotlib.text.Text at 0x118415090>"
      ]
     },
     "execution_count": 61,
     "metadata": {},
     "output_type": "execute_result"
    },
    {
     "data": {
      "image/png": "[encoded data removed]",
      "text/plain": [
       "<matplotlib.figure.Figure at 0x1181f4fd0>"
      ]
     },
     "metadata": {},
     "output_type": "display_data"
    }
   ],
   "source": [
    "#将近海和远海的散点图合并显示\n",
    "plt.scatter(far_city_dists,far_max_temps,s=100)\n",
    "plt.scatter(near_city_dists,near_max_temps)\n",
    "plt.scatter(far_city_dists,far_max_temps)\n",
    "plt.plot(x,y)\n",
    "plt.scatter(near_city_dists,near_max_temps)\n",
    "plt.plot(x1,y1)\n",
    "plt.title('最高温度和距海洋距离的关系图',fontsize=20)\n",
    "plt.xlabel('距海洋距离',fontsize=15)\n",
    "plt.ylabel('最高温度',fontsize=15)"
   ]
  },
  {
   "cell_type": "markdown",
   "metadata": {
    "collapsed": true
   },
   "source": [
    "查看最低温度与海洋距离的关系"
   ]
  },
  {
   "cell_type": "markdown",
   "metadata": {},
   "source": [
    "最低湿度与海洋距离的关系"
   ]
  },
  {
   "cell_type": "markdown",
   "metadata": {},
   "source": [
    "最高湿度与海洋距离的关系"
   ]
  },
  {
   "cell_type": "markdown",
   "metadata": {},
   "source": [
    "平均湿度与海洋距离的关系"
   ]
  },
  {
   "cell_type": "code",
   "execution_count": 62,
   "metadata": {
    "collapsed": true
   },
   "outputs": [
    {
     "data": {
      "text/html": [
       "<div>\n",
       "<table border=\"1\" class=\"dataframe\">\n",
       "  <thead>\n",
       "    <tr style=\"text-align: right;\">\n",
       "      <th></th>\n",
       "      <th>temp</th>\n",
       "      <th>humidity</th>\n",
       "      <th>pressure</th>\n",
       "      <th>description</th>\n",
       "      <th>dt</th>\n",
       "      <th>wind_speed</th>\n",
       "      <th>wind_deg</th>\n",
       "      <th>city</th>\n",
       "      <th>day</th>\n",
       "      <th>dist</th>\n",
       "    </tr>\n",
       "  </thead>\n",
       "  <tbody>\n",
       "    <tr>\n",
       "      <th>0</th>\n",
       "      <td>29.40</td>\n",
       "      <td>83</td>\n",
       "      <td>1015</td>\n",
       "      <td>moderate rain</td>\n",
       "      <td>1436863177</td>\n",
       "      <td>3.62</td>\n",
       "      <td>94.001</td>\n",
       "      <td>Faenza</td>\n",
       "      <td>2015-07-14 10:39:37</td>\n",
       "      <td>37</td>\n",
       "    </tr>\n",
       "    <tr>\n",
       "      <th>1</th>\n",
       "      <td>30.12</td>\n",
       "      <td>78</td>\n",
       "      <td>1015</td>\n",
       "      <td>moderate rain</td>\n",
       "      <td>1436866759</td>\n",
       "      <td>3.10</td>\n",
       "      <td>80.000</td>\n",
       "      <td>Faenza</td>\n",
       "      <td>2015-07-14 11:39:19</td>\n",
       "      <td>37</td>\n",
       "    </tr>\n",
       "    <tr>\n",
       "      <th>2</th>\n",
       "      <td>30.10</td>\n",
       "      <td>78</td>\n",
       "      <td>1015</td>\n",
       "      <td>moderate rain</td>\n",
       "      <td>1436870510</td>\n",
       "      <td>3.60</td>\n",
       "      <td>70.000</td>\n",
       "      <td>Faenza</td>\n",
       "      <td>2015-07-14 12:41:50</td>\n",
       "      <td>37</td>\n",
       "    </tr>\n",
       "    <tr>\n",
       "      <th>3</th>\n",
       "      <td>30.75</td>\n",
       "      <td>74</td>\n",
       "      <td>1015</td>\n",
       "      <td>moderate rain</td>\n",
       "      <td>1436874099</td>\n",
       "      <td>4.60</td>\n",
       "      <td>90.000</td>\n",
       "      <td>Faenza</td>\n",
       "      <td>2015-07-14 13:41:39</td>\n",
       "      <td>37</td>\n",
       "    </tr>\n",
       "    <tr>\n",
       "      <th>4</th>\n",
       "      <td>30.71</td>\n",
       "      <td>66</td>\n",
       "      <td>1015</td>\n",
       "      <td>moderate rain</td>\n",
       "      <td>1436877646</td>\n",
       "      <td>5.10</td>\n",
       "      <td>100.000</td>\n",
       "      <td>Faenza</td>\n",
       "      <td>2015-07-14 14:40:46</td>\n",
       "      <td>37</td>\n",
       "    </tr>\n",
       "  </tbody>\n",
       "</table>\n",
       "</div>"
      ],
      "text/plain": [
       "    temp  humidity  pressure    description          dt  wind_speed  wind_deg  \\\n",
       "0  29.40        83      1015  moderate rain  1436863177        3.62    94.001   \n",
       "1  30.12        78      1015  moderate rain  1436866759        3.10    80.000   \n",
       "2  30.10        78      1015  moderate rain  1436870510        3.60    70.000   \n",
       "3  30.75        74      1015  moderate rain  1436874099        4.60    90.000   \n",
       "4  30.71        66      1015  moderate rain  1436877646        5.10   100.000   \n",
       "\n",
       "     city                  day  dist  \n",
       "0  Faenza  2015-07-14 10:39:37    37  \n",
       "1  Faenza  2015-07-14 11:39:19    37  \n",
       "2  Faenza  2015-07-14 12:41:50    37  \n",
       "3  Faenza  2015-07-14 13:41:39    37  \n",
       "4  Faenza  2015-07-14 14:40:46    37  "
      ]
     },
     "execution_count": 62,
     "metadata": {},
     "output_type": "execute_result"
    }
   ],
   "source": [
    "faenza.head()"
   ]
  },
  {
   "cell_type": "code",
   "execution_count": 63,
   "metadata": {
    "collapsed": true
   },
   "outputs": [],
   "source": [
    "city_hum=[]\n",
    "for city in citys:\n",
    "    h=city['humidity'].mean()\n",
    "    city_hum.append(h)"
   ]
  },
  {
   "cell_type": "code",
   "execution_count": 65,
   "metadata": {
    "collapsed": false
   },
   "outputs": [
    {
     "data": {
      "text/plain": [
       "[47, 357, 121, 250, 8, 315, 71, 200, 14, 37]"
      ]
     },
     "execution_count": 65,
     "metadata": {},
     "output_type": "execute_result"
    }
   ],
   "source": [
    "city_dists"
   ]
  },
  {
   "cell_type": "code",
   "execution_count": 66,
   "metadata": {
    "collapsed": false,
    "scrolled": true
   },
   "outputs": [
    {
     "data": {
      "text/plain": [
       "[62.75,\n",
       " 63.19117647058823,\n",
       " 59.14705882352941,\n",
       " 56.984848484848484,\n",
       " 68.01515151515152,\n",
       " 63.13235294117647,\n",
       " 61.338235294117645,\n",
       " 59.30882352941177,\n",
       " 77.6470588235294,\n",
       " 81.07462686567165]"
      ]
     },
     "execution_count": 66,
     "metadata": {},
     "output_type": "execute_result"
    }
   ],
   "source": [
    "city_hum"
   ]
  },
  {
   "cell_type": "code",
   "execution_count": 68,
   "metadata": {
    "collapsed": false,
    "scrolled": true
   },
   "outputs": [
    {
     "data": {
      "text/plain": [
       "<matplotlib.collections.PathCollection at 0x11865f4d0>"
      ]
     },
     "execution_count": 68,
     "metadata": {},
     "output_type": "execute_result"
    },
    {
     "data": {
      "image/png": "[encoded data removed]",
      "text/plain": [
       "<matplotlib.figure.Figure at 0x11860b510>"
      ]
     },
     "metadata": {},
     "output_type": "display_data"
    }
   ],
   "source": [
    "plt.scatter(city_dists,city_hum)"
   ]
  },
  {
   "cell_type": "code",
   "execution_count": 70,
   "metadata": {
    "collapsed": false
   },
   "outputs": [
    {
     "data": {
      "text/plain": [
       "array([ 60.67114432])"
      ]
     },
     "execution_count": 70,
     "metadata": {},
     "output_type": "execute_result"
    }
   ],
   "source": [
    "#创建模型对象\n",
    "linear=LinearRegression()\n",
    "#对模型进行训练\n",
    "linear.fit(np_city_dists.reshape(-1,1),city_hum)\n",
    "#测试\n",
    "linear.predict(280)"
   ]
  },
  {
   "cell_type": "code",
   "execution_count": 73,
   "metadata": {
    "collapsed": false
   },
   "outputs": [],
   "source": [
    "x=np.linspace(np_city_dists.min(),np_city_dists.max(),150)\n",
    "y=linear.predict(x.reshape(-1,1))"
   ]
  },
  {
   "cell_type": "code",
   "execution_count": 74,
   "metadata": {
    "collapsed": false
   },
   "outputs": [
    {
     "data": {
      "text/plain": [
       "<matplotlib.collections.PathCollection at 0x11773a390>"
      ]
     },
     "execution_count": 74,
     "metadata": {},
     "output_type": "execute_result"
    },
    {
     "data": {
      "image/png": "[encoded data removed]",
      "text/plain": [
       "<matplotlib.figure.Figure at 0x11773a310>"
      ]
     },
     "metadata": {},
     "output_type": "display_data"
    }
   ],
   "source": [
    "plt.plot(x,y)\n",
    "plt.scatter(city_dists,city_hum)"
   ]
  },
  {
   "cell_type": "code",
   "execution_count": null,
   "metadata": {
    "collapsed": true
   },
   "outputs": [],
   "source": []
  }
 ],
 "metadata": {
  "kernelspec": {
   "display_name": "Python 2",
   "language": "python",
   "name": "python2"
  },
  "language_info": {
   "codemirror_mode": {
    "name": "ipython",
    "version": 2
   },
   "file_extension": ".py",
   "mimetype": "text/x-python",
   "name": "python",
   "nbconvert_exporter": "python",
   "pygments_lexer": "ipython2",
   "version": "2.7.13"
  }
 },
 "nbformat": 4,
 "nbformat_minor": 1
}
