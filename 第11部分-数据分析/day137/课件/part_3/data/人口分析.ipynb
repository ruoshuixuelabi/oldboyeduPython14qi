{
 "cells": [
  {
   "cell_type": "markdown",
   "metadata": {},
   "source": [
    "- 需求：\n",
    "    - 导入文件，查看原始数据\n",
    "    - 将人口数据和各州简称数据进行合并\n",
    "    - 将合并的数据中重复的abbreviation列进行删除\n",
    "    - 查看存在缺失数据的列\n",
    "    - 找到有哪些state/region使得state的值为NaN，进行去重操作\n",
    "    - 为找到的这些state/region的state项补上正确的值，从而去除掉state这一列的所有NaN\n",
    "    - 合并各州面积数据areas\n",
    "    - 我们会发现area(sq.mi)这一列有缺失数据，找出是哪些行\n",
    "    - 去除含有缺失数据的行\n",
    "    - 找出2010年的全民人口数据\n",
    "    - 计算各州的人口密度\n",
    "    - 排序，并找出人口密度最高的五个州   df.sort_values()"
   ]
  }
 ],
 "metadata": {
  "kernelspec": {
   "display_name": "Python 3",
   "language": "python",
   "name": "python3"
  },
  "language_info": {
   "codemirror_mode": {
    "name": "ipython",
    "version": 3
   },
   "file_extension": ".py",
   "mimetype": "text/x-python",
   "name": "python",
   "nbconvert_exporter": "python",
   "pygments_lexer": "ipython3",
   "version": "3.7.1"
  }
 },
 "nbformat": 4,
 "nbformat_minor": 2
}
