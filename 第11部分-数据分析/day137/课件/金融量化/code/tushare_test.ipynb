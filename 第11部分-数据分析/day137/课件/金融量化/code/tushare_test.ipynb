{
 "cells": [
  {
   "cell_type": "code",
   "execution_count": 1,
   "metadata": {},
   "outputs": [],
   "source": [
    "import numpy as np\n",
    "import pandas as pd\n",
    "import matplotlib.pyplot as plt\n",
    "import tushare as ts"
   ]
  },
  {
   "cell_type": "raw",
   "metadata": {},
   "source": []
  },
  {
   "cell_type": "code",
   "execution_count": 5,
   "metadata": {
    "scrolled": true
   },
   "outputs": [],
   "source": [
    "df = ts.get_k_data(\"600519\", start='1980-1-1')"
   ]
  },
  {
   "cell_type": "code",
   "execution_count": 10,
   "metadata": {},
   "outputs": [],
   "source": [
    "df.index = pd.to_datetime(df['date'])"
   ]
  },
  {
   "cell_type": "code",
   "execution_count": 12,
   "metadata": {},
   "outputs": [],
   "source": [
    "del df['date']"
   ]
  },
  {
   "cell_type": "code",
   "execution_count": 14,
   "metadata": {},
   "outputs": [],
   "source": [
    "del df['volume'],df['code']"
   ]
  },
  {
   "cell_type": "code",
   "execution_count": 21,
   "metadata": {},
   "outputs": [
    {
     "data": {
      "text/plain": [
       "DatetimeIndex(['2001-08-27', '2001-08-28', '2001-09-10', '2001-12-21',\n",
       "               '2002-01-18', '2002-01-31', '2003-01-14', '2003-10-29',\n",
       "               '2004-01-05', '2004-01-14',\n",
       "               ...\n",
       "               '2018-04-19', '2018-05-07', '2018-05-28', '2018-06-04',\n",
       "               '2018-06-20', '2018-08-09', '2018-08-21', '2018-08-27',\n",
       "               '2018-09-18', '2018-09-26'],\n",
       "              dtype='datetime64[ns]', name='date', length=287, freq=None)"
      ]
     },
     "execution_count": 21,
     "metadata": {},
     "output_type": "execute_result"
    }
   ],
   "source": [
    "df[(df['close'] - df['open'])/df['open']>0.03].index"
   ]
  },
  {
   "cell_type": "code",
   "execution_count": 27,
   "metadata": {
    "collapsed": true
   },
   "outputs": [
    {
     "data": {
      "text/plain": [
       "DatetimeIndex(['2001-09-12', '2002-06-26', '2002-12-13', '2004-07-01',\n",
       "               '2004-10-29', '2006-08-21', '2006-08-23', '2007-01-25',\n",
       "               '2007-02-01', '2007-02-06', '2007-03-19', '2007-05-21',\n",
       "               '2007-05-30', '2007-06-05', '2007-07-27', '2007-09-05',\n",
       "               '2007-09-10', '2008-03-13', '2008-03-17', '2008-03-25',\n",
       "               '2008-03-27', '2008-04-22', '2008-04-23', '2008-04-29',\n",
       "               '2008-05-13', '2008-06-10', '2008-06-13', '2008-06-24',\n",
       "               '2008-06-27', '2008-08-11', '2008-08-19', '2008-09-23',\n",
       "               '2008-10-10', '2008-10-15', '2008-10-16', '2008-10-20',\n",
       "               '2008-10-23', '2008-10-27', '2008-11-06', '2008-11-12',\n",
       "               '2008-11-20', '2008-11-21', '2008-12-02', '2009-02-27',\n",
       "               '2009-03-25', '2009-08-13', '2010-04-26', '2010-04-30',\n",
       "               '2011-08-05', '2012-03-27', '2012-08-10', '2012-11-22',\n",
       "               '2012-12-04', '2012-12-24', '2013-01-16', '2013-01-25',\n",
       "               '2013-09-02', '2014-04-25', '2015-01-19', '2015-05-25',\n",
       "               '2015-07-03', '2015-07-08', '2015-07-13', '2015-08-24',\n",
       "               '2015-09-02', '2015-09-15', '2017-11-17', '2018-02-06',\n",
       "               '2018-02-09', '2018-03-23', '2018-03-28', '2018-07-11',\n",
       "               '2018-10-11'],\n",
       "              dtype='datetime64[ns]', name='date', freq=None)"
      ]
     },
     "execution_count": 27,
     "metadata": {},
     "output_type": "execute_result"
    }
   ],
   "source": [
    "df[(df['open'] - df['close'].shift(1)) / df['close'].shift(1) < -0.02].index"
   ]
  },
  {
   "cell_type": "code",
   "execution_count": 2,
   "metadata": {},
   "outputs": [
    {
     "name": "stdout",
     "output_type": "stream",
     "text": [
      "['九连板！ 是谁在追涨风范股份？', '华强北iPhone批发商：拿货价确实降了', '厦航董事长车尚轮届满退休 继任者暂未确定', '空客2018年共交付800架民用飞机  ', '2019年CES手机企业多缺席 电商平台参展秀肌肉', '拖堂150分钟 张小龙阐释微信7.0小程序和小游戏', '宝塔实业子公司股权冻结情况及股价涨停均被问询', '上海凤凰子公司与ofo达成和解 剩余货款同意分期', 'iPhone新一轮降价表来了！最高降450元', '开始降价！苹果产品在华渠道价最高直降450元', '广电牵手中信集团 探索广电5G网络顶层设计', '领益智造部分股票遭冻结 三名原副董事长陷借贷纠纷', '银隆新能源公布魏银仓等涉嫌侵占财产案细节 ', '数月内第三次！长航凤凰子公司再现批量辞职', '权健集团实控人束昱辉之子旗下海鸟城已停止加盟', '挥别“黄金时代”！珠宝行业如何面对被动消费升级？', '香飘飘供货商熊猫乳品终止A股IPO申请', '雅芳小姐美人迟暮？ 4400万美元卖工厂力挽芳华', '理工环科大股东“借马甲”炒股  不仅被罚还炒亏了', '谁来拯救这支创足坛连胜记录的川足冠军队？', '金龙机电控制权成谜  ', '光伏行业协会秘书长：去年新增装机容量预计达40GW', '组织架构调整100天后 腾讯技术委员会终于成立']\n"
     ]
    }
   ],
   "source": [
    "import requests\n",
    "from lxml import etree\n",
    "\n",
    "url='http://industry.nbd.com.cn'\n",
    "headers={\n",
    "     'User-Agent':'Mozilla/5.0 (Windows NT 6.1; WOW64) AppleWebKit/537.36 (KHTML, like Gecko) Chrome/70.0.3538.110 Safari/537.36'\n",
    "}\n",
    "\n",
    "page_text=requests.get(url=url,headers=headers).text\n",
    "tree=etree.HTML(page_text)\n",
    "lis_all=tree.xpath('//ul[@class=\"m-columnnews-list\"]/li')\n",
    "all_list=[]\n",
    "for  i in lis_all:\n",
    "    title=i.xpath('./a/img/@alt')[0]\n",
    "    all_list.append(title)\n",
    "print(all_list)"
   ]
  },
  {
   "cell_type": "code",
   "execution_count": null,
   "metadata": {},
   "outputs": [],
   "source": []
  }
 ],
 "metadata": {
  "kernelspec": {
   "display_name": "Python 3",
   "language": "python",
   "name": "python3"
  },
  "language_info": {
   "codemirror_mode": {
    "name": "ipython",
    "version": 3
   },
   "file_extension": ".py",
   "mimetype": "text/x-python",
   "name": "python",
   "nbconvert_exporter": "python",
   "pygments_lexer": "ipython3",
   "version": "3.6.5"
  }
 },
 "nbformat": 4,
 "nbformat_minor": 2
}
