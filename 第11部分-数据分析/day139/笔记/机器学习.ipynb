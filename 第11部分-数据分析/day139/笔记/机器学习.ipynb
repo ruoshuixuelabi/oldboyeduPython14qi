{
 "cells": [
  {
   "cell_type": "markdown",
   "metadata": {},
   "source": [
    "- 机器学习:sk_learn\n",
    "    - 样本数据:\n",
    "        - 样本集:df,ndarray\n",
    "        - 特征数据:自变量\n",
    "        - 目标数据:因变量\n",
    "        \n",
    "    - 算法模型:\n",
    "        - 分类:\n",
    "            - 有监督学习:样本数据必须要有目标数据\n",
    "                \n",
    "            - 无监督学习:样本数据可以目标数据\n",
    "            \n",
    "        - 算法模型: 类,模型对象.可以具有预测和分类的功能.任意的模型对象中,其内部都封装好了某个或者某些方程(还没有解的方程)\n",
    "        - 训练模型:将样本数据带入到模型对象中.\n",
    "        \n",
    "        \n",
    "        \n",
    "        \n",
    "        \n",
    "        \n",
    "        \n",
    "            \n",
    "            "
   ]
  },
  {
   "cell_type": "code",
   "execution_count": null,
   "metadata": {},
   "outputs": [],
   "source": [
    "面积  楼层  采光率  价格\n",
    "100    2     90%     100w\n",
    "120    18    50%     77w"
   ]
  }
 ],
 "metadata": {
  "kernelspec": {
   "display_name": "Python 3",
   "language": "python",
   "name": "python3"
  },
  "language_info": {
   "codemirror_mode": {
    "name": "ipython",
    "version": 3
   },
   "file_extension": ".py",
   "mimetype": "text/x-python",
   "name": "python",
   "nbconvert_exporter": "python",
   "pygments_lexer": "ipython3",
   "version": "3.7.0"
  }
 },
 "nbformat": 4,
 "nbformat_minor": 2
}
