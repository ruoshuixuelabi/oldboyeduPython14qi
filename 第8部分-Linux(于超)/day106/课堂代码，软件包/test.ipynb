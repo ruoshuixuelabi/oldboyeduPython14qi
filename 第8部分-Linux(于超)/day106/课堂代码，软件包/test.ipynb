{
 "cells": [
  {
   "cell_type": "markdown",
   "metadata": {},
   "source": [
    "### 快捷键\n",
    "\n",
    "- 插入一个cell：a b\n",
    "- 删除cell：x\n",
    "- cell模式的切换：\n",
    "    - m：切换成markdown模式\n",
    "    - y：切换成code模式\n",
    "- 执行：shift+enter\n",
    "- tab:自动补全\n",
    "- shift+tab：弹出帮助文档\n",
    "- %time 一行代码:计算出当前行运行时长\n",
    "- %%time:计算多行代码的运行时长\n",
    "- %run xxx.py:运行外部的一个源文件\n",
    "\n"
   ]
  }
 ],
 "metadata": {
  "kernelspec": {
   "display_name": "Python 3",
   "language": "python",
   "name": "python3"
  },
  "language_info": {
   "codemirror_mode": {
    "name": "ipython",
    "version": 3
   },
   "file_extension": ".py",
   "mimetype": "text/x-python",
   "name": "python",
   "nbconvert_exporter": "python",
   "pygments_lexer": "ipython3",
   "version": "3.7.0"
  }
 },
 "nbformat": 4,
 "nbformat_minor": 2
}
